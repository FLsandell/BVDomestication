{
 "cells": [
  {
   "cell_type": "code",
   "execution_count": null,
   "id": "aebcc321",
   "metadata": {},
   "outputs": [],
   "source": [
    "# sliding window\n",
    "\n",
    "import pandas as pd\n",
    "import matplotlib.pyplot as plt\n",
    "import numpy as np\n",
    "\n",
    "# import file\n",
    "\n",
    "chr_lengths = pd.read_csv('input file', sep = '\\t')\n",
    "df = pd.read_csv('input file', sep = '\\t')"
   ]
  },
  {
   "cell_type": "code",
   "execution_count": null,
   "id": "8685ada3",
   "metadata": {},
   "outputs": [],
   "source": [
    "# remove un scaffolds\n",
    "df = df[~df['Scaffold'].str.contains('un')]\n",
    "chr_lengths = chr_lengths[~chr_lengths['Sca'].str.contains('un')]"
   ]
  },
  {
   "cell_type": "code",
   "execution_count": null,
   "id": "82ff176c",
   "metadata": {},
   "outputs": [],
   "source": [
    "def sliding_window_feats(sca_length, window_size, step_size, scaffold):\n",
    "    sca = df[df['Scaffold'].str.contains(scaffold)]\n",
    "    sliding_list=[]\n",
    "    lst = list(range(1,sca_length+1))\n",
    "    for i in range(len(lst))[::step_size]:\n",
    "        feats = sca.loc[(df['Position'] >= i) & (sca['Position'] <= i+window_size)].Importance.sum()\n",
    "        feats_list = feats.tolist()\n",
    "        sliding_list.append(feats_list)\n",
    "    return sliding_list"
   ]
  },
  {
   "cell_type": "code",
   "execution_count": null,
   "id": "f70157b9",
   "metadata": {},
   "outputs": [],
   "source": [
    "def sliding_window_counts(sca_length, window_size, step_size, scaffold):\n",
    "    sca = df[df['Scaffold'].str.contains(scaffold)]\n",
    "    sliding_list=[]\n",
    "    lst = list(range(1,sca_length+1))\n",
    "    for i in range(len(lst))[::step_size]:\n",
    "        counts = pd.cut(sca.Position, [i ,i+window_size]).value_counts()\n",
    "        counts_list = counts.tolist()\n",
    "        sliding_list.extend(counts_list)\n",
    "    return sliding_list"
   ]
  },
  {
   "cell_type": "code",
   "execution_count": null,
   "id": "e1a16240",
   "metadata": {},
   "outputs": [],
   "source": [
    "# iterate through all scaffolds on chr6 and plot the sliding window\n",
    "sig_windows = pd.DataFrame()\n",
    "\n",
    "for index, row in chr_lengths.iterrows(): \n",
    "    print(row['Sca'])\n",
    "    sliding_list_feats = sliding_window_feats(row['length'], 5000, 2500, row['Sca'])\n",
    "    \n",
    "    df_test = pd.DataFrame()\n",
    "\n",
    "    df_test['chr'] = row['Sca']\n",
    "    df_test['feats'] = sliding_list_feats\n",
    "    df_test['loc'] = range(1,row['length'],2500)\n",
    "    #q = df_test['feats'].quantile(0.99)\n",
    "    #print(q)\n",
    "    #df_test.loc[(df_test['feats'] >= 0.01)]\n",
    "    #sig_windows = sig_windows.append(df_test, ignore_index=True)\n",
    "    \n",
    "    \n",
    "    plt_1 = plt.figure(figsize=(15, 5))\n",
    "    # name the labels\n",
    "    plt.xlabel('Position')\n",
    "    plt.ylabel('Counts')\n",
    "    plt.title(row['Sca'])\n",
    "    plt.ylim(0, 0.06)\n",
    "\n",
    "    plt.plot(range(1,row['length'],2500), sliding_list_feats)"
   ]
  },
  {
   "cell_type": "code",
   "execution_count": null,
   "id": "11e260ae",
   "metadata": {},
   "outputs": [],
   "source": []
  }
 ],
 "metadata": {
  "kernelspec": {
   "display_name": "Python 3",
   "language": "python",
   "name": "python3"
  },
  "language_info": {
   "codemirror_mode": {
    "name": "ipython",
    "version": 3
   },
   "file_extension": ".py",
   "mimetype": "text/x-python",
   "name": "python",
   "nbconvert_exporter": "python",
   "pygments_lexer": "ipython3",
   "version": "3.7.6"
  }
 },
 "nbformat": 4,
 "nbformat_minor": 5
}
